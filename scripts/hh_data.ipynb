{
  "cells": [
    {
      "cell_type": "markdown",
      "metadata": {
        "id": "view-in-github",
        "colab_type": "text"
      },
      "source": [
        "<a href=\"https://colab.research.google.com/github/akvo/oak-india/blob/main/scripts/hh_data.ipynb\" target=\"_parent\"><img src=\"https://colab.research.google.com/assets/colab-badge.svg\" alt=\"Open In Colab\"/></a>"
      ]
    },
    {
      "cell_type": "code",
      "execution_count": null,
      "metadata": {
        "id": "SWLSQPsPpZ8y"
      },
      "outputs": [],
      "source": [
        "import pandas as pd\n",
        "import ipywidgets as widgets\n",
        "from IPython.display import display\n",
        "import matplotlib.pyplot as plt\n",
        "import folium\n",
        "from folium import plugins\n",
        "import numpy as np\n",
        "import branca.colormap as cm"
      ]
    },
    {
      "cell_type": "code",
      "execution_count": null,
      "metadata": {
        "id": "vKtq-9D6pZ8z",
        "outputId": "167353e3-607f-4339-b292-a4d3823bbf52"
      },
      "outputs": [
        {
          "name": "stderr",
          "output_type": "stream",
          "text": [
            "/var/folders/s1/vg03xmpn7292bsnp49yfdn8c0000gq/T/ipykernel_39178/203668171.py:1: DtypeWarning: Columns (71) have mixed types. Specify dtype option on import or set low_memory=False.\n",
            "  df=pd.read_csv('../data/Prasari_sunderban_hh.csv',encoding='utf-8')\n"
          ]
        }
      ],
      "source": [
        "df=pd.read_csv('../data/Prasari_sunderban_hh.csv',encoding='utf-8')\n"
      ]
    },
    {
      "cell_type": "code",
      "execution_count": null,
      "metadata": {
        "id": "vJp94-pppZ8z",
        "outputId": "ddf91507-6a3d-4787-dc0d-f7848a5d0148",
        "colab": {
          "referenced_widgets": [
            "138806eb43984ce09c1b602e675b7e51"
          ]
        }
      },
      "outputs": [
        {
          "data": {
            "application/vnd.jupyter.widget-view+json": {
              "model_id": "138806eb43984ce09c1b602e675b7e51",
              "version_major": 2,
              "version_minor": 0
            },
            "text/plain": [
              "interactive(children=(Dropdown(description='Column:', options=('start', 'end', 'ব্লক এর নাম', 'গ্রাম পঞ্চায়েত'…"
            ]
          },
          "execution_count": 3,
          "metadata": {},
          "output_type": "execute_result"
        }
      ],
      "source": [
        "\n",
        "# Get non-numeric columns\n",
        "non_numeric_cols = df.select_dtypes(exclude=['int64', 'float64']).columns\n",
        "\n",
        "# Create dropdown widget\n",
        "dropdown = widgets.Dropdown(\n",
        "    options=non_numeric_cols,\n",
        "    description='Column:',\n",
        "    style={'description_width': 'initial'}\n",
        ")\n",
        "\n",
        "# Define function to show value counts\n",
        "def show_value_counts(column):\n",
        "    display(df[column].value_counts())\n",
        "\n",
        "# Connect the dropdown to the function\n",
        "widgets.interactive(show_value_counts, column=dropdown)"
      ]
    },
    {
      "cell_type": "code",
      "execution_count": null,
      "metadata": {
        "id": "vezHLb29pZ80"
      },
      "outputs": [],
      "source": [
        "import json\n",
        "with open('../data/pp_villages_pc11.geojson', 'r') as f:\n",
        "    geojson_data = json.load(f)"
      ]
    },
    {
      "cell_type": "code",
      "execution_count": null,
      "metadata": {
        "id": "sGwmL50HpZ80",
        "outputId": "f1e859fa-59f9-4a5e-cebc-3be46dfc9d4c",
        "colab": {
          "referenced_widgets": [
            "be4cfd0dbd514524bf659f3417bf8b72"
          ]
        }
      },
      "outputs": [
        {
          "data": {
            "application/vnd.jupyter.widget-view+json": {
              "model_id": "be4cfd0dbd514524bf659f3417bf8b72",
              "version_major": 2,
              "version_minor": 0
            },
            "text/plain": [
              "interactive(children=(Dropdown(description='Color by:', options=('ব্লক এর নাম', 'গ্রাম পঞ্চায়েত', 'গ্রামের নাম…"
            ]
          },
          "execution_count": 5,
          "metadata": {},
          "output_type": "execute_result"
        }
      ],
      "source": [
        "\n",
        "\n",
        "exclude_cols = ['_বাড়ির অবস্থান _latitude', '_বাড়ির অবস্থান _longitude','_বাড়ির অবস্থান _precision', '_বাড়ির অবস্থান _altitude',\n",
        "                '_id', '_uuid', '_submission_time', '_validation_status',\n",
        "                '_notes', '_status', '_submitted_by', '__version__', '_tags', '_index','start','end']\n",
        "plot_columns = [col for col in df.columns if col not in exclude_cols]\n",
        "\n",
        "def create_color_map(data):\n",
        "    \"\"\"Create a color map based on data type\"\"\"\n",
        "    if pd.api.types.is_numeric_dtype(data):\n",
        "        # Calculate quartiles and IQR\n",
        "        Q1 = data.quantile(0.25)\n",
        "        Q3 = data.quantile(0.75)\n",
        "        IQR = Q3 - Q1\n",
        "\n",
        "        # Define outlier boundaries\n",
        "        lower_bound = Q1 - 1.5 * IQR\n",
        "        upper_bound = Q3 + 1.5 * IQR\n",
        "\n",
        "        # Create bounds using a combination of outlier boundaries and percentiles\n",
        "        bounds = [\n",
        "            data.min(),  # Minimum value\n",
        "            lower_bound,  # Lower outlier boundary\n",
        "            Q1,          # 25th percentile\n",
        "            data.median(),  # Median\n",
        "            Q3,          # 75th percentile\n",
        "            upper_bound, # Upper outlier boundary\n",
        "            data.max()   # Maximum value\n",
        "        ]\n",
        "        bounds = sorted(list(set([round(b, 2) for b in bounds])))  # Remove duplicates and round\n",
        "\n",
        "        # Create colormap with more distinct colors\n",
        "        colormap = cm.StepColormap(\n",
        "            colors=['#313695', '#4575b4', '#74add1', '#abd9e9', '#fdae61', '#f46d43', '#d73027'],\n",
        "            vmin=bounds[0],\n",
        "            vmax=bounds[-1],\n",
        "            index=bounds,\n",
        "            caption=(f'Min: {bounds[0]:.2f} | '\n",
        "                    f'Q1: {Q1:.2f} | '\n",
        "                    f'Median: {data.median():.2f} | '\n",
        "                    f'Q3: {Q3:.2f} | '\n",
        "                    f'Max: {bounds[-1]:.2f}\\n'\n",
        "                    f'(IQR: {IQR:.2f})')\n",
        "        )\n",
        "        return colormap\n",
        "    else:\n",
        "        # For categorical data, create a categorical color map\n",
        "        unique_values = data.value_counts()\n",
        "        if len(unique_values) <= 20:\n",
        "            top_categories = unique_values\n",
        "        else:\n",
        "            top_categories = unique_values.head(20)\n",
        "\n",
        "        distinct_colors = [\n",
        "            '#e6194B', '#3cb44b', '#4363d8', '#f58231', '#911eb4',\n",
        "            '#42d4f4', '#f032e6', '#bfef45', '#fabed4', '#469990',\n",
        "            '#dcbeff', '#9A6324', '#fffac8', '#800000', '#aaffc3',\n",
        "            '#808000', '#ffd8b1', '#000075', '#a9a9a9', '#000000'\n",
        "        ]\n",
        "\n",
        "        color_dict = dict(zip(top_categories.index, distinct_colors[:len(top_categories)]))\n",
        "        if len(unique_values) > 20:\n",
        "            color_dict['Others'] = '#808080'\n",
        "\n",
        "        return color_dict, top_categories\n",
        "\n",
        "def update_map(column):\n",
        "    # Create base map centered on mean coordinates\n",
        "    df_cleaned = df.dropna(subset=[column])\n",
        "    m = folium.Map(\n",
        "        location=[df_cleaned['_বাড়ির অবস্থান _latitude'].mean(),\n",
        "                 df_cleaned['_বাড়ির অবস্থান _longitude'].mean()],\n",
        "        zoom_start=12,\n",
        "        prefer_canvas=True\n",
        "    )\n",
        "    # Add GeoJSON layer\n",
        "    style_function = lambda x: {\n",
        "        'fillColor': 'none',\n",
        "        'color': 'black',\n",
        "        'weight': 1,\n",
        "        'fillOpacity': 0\n",
        "    }\n",
        "\n",
        "    tooltip = folium.GeoJsonTooltip(\n",
        "        fields=['tv_name'],\n",
        "        aliases=['Village:'],\n",
        "        style=(\"background-color: white; color: #333333; font-family: arial; font-size: 12px; padding: 10px;\")\n",
        "    )\n",
        "\n",
        "    geojson_layer = folium.GeoJson(\n",
        "        geojson_data,\n",
        "        name='Village Boundaries',\n",
        "        style_function=style_function,\n",
        "        tooltip=tooltip\n",
        "    )\n",
        "    geojson_layer.add_to(m)\n",
        "\n",
        "    # Create color map\n",
        "    if pd.api.types.is_numeric_dtype(df_cleaned[column]):\n",
        "        color_map = create_color_map(df_cleaned[column])\n",
        "        top_categories = None  # Not needed for numeric data\n",
        "    else:\n",
        "        color_map, top_categories = create_color_map(df_cleaned[column])\n",
        "\n",
        "    # Add points to map\n",
        "    for idx, row in df_cleaned.iterrows():\n",
        "        if pd.api.types.is_numeric_dtype(df_cleaned[column]):\n",
        "            color = color_map(row[column])\n",
        "        else:\n",
        "            # Use get() method with 'Others' as default for any category not in top 20\n",
        "            color = color_map.get(row[column], '#808080')\n",
        "\n",
        "        popup_text = f\"UUID : {row['_uuid']}<br>{column}: {row[column]}\"\n",
        "\n",
        "        folium.CircleMarker(\n",
        "            location=[row['_বাড়ির অবস্থান _latitude'],\n",
        "                     row['_বাড়ির অবস্থান _longitude']],\n",
        "            radius=5,\n",
        "            popup=popup_text,\n",
        "            color=color,\n",
        "            fill=True\n",
        "        ).add_to(m)\n",
        "\n",
        "    # Add color map to the map if numeric\n",
        "    if pd.api.types.is_numeric_dtype(df_cleaned[column]):\n",
        "        color_map.add_to(m)\n",
        "    else:\n",
        "        # Add legend for categorical data\n",
        "        legend_html = f'''\n",
        "            <div style=\"position: fixed;\n",
        "                        bottom: 50px; right: 50px; width: 200px; max-height: 500px;\n",
        "                        border:2px solid grey; z-index:9999; background-color:white;\n",
        "                        padding:10px; overflow-y: auto; font-size:12px;\">\n",
        "            <p style=\"font-size:14px\"><b>{column}</b></p>\n",
        "            <p style=\"font-size:10px\">Showing top 20 categories by frequency</p>\n",
        "            '''\n",
        "\n",
        "        # Add top categories with counts\n",
        "        for value, count in top_categories.items():\n",
        "            color = color_map[value]\n",
        "            legend_html += f'<p><span style=\"color:{color};\">●</span> {value} ({count})</p>'\n",
        "\n",
        "        # Add 'Others' category if there are more categories\n",
        "        if len(df_cleaned[column].unique()) > 20:\n",
        "            others_count = df_cleaned[column].value_counts().iloc[20:].sum()\n",
        "            legend_html += f'<p><span style=\"color:#808080;\">●</span> Others ({others_count})</p>'\n",
        "\n",
        "        legend_html += '</div>'\n",
        "        m.get_root().html.add_child(folium.Element(legend_html))\n",
        "\n",
        "    # Add layer control\n",
        "    folium.LayerControl().add_to(m)\n",
        "\n",
        "    display(m)\n",
        "\n",
        "# Create dropdown widget\n",
        "dropdown = widgets.Dropdown(\n",
        "    options=plot_columns,\n",
        "    description='Color by:',\n",
        "    style={'description_width': 'initial'}\n",
        ")\n",
        "\n",
        "# Connect the dropdown to the function\n",
        "widgets.interactive(update_map, column=dropdown)"
      ]
    },
    {
      "cell_type": "code",
      "execution_count": null,
      "metadata": {
        "id": "IEpIvEptpZ80",
        "outputId": "3c849f3a-23ad-43e0-b806-78d87a87f9fb",
        "colab": {
          "referenced_widgets": [
            "01f67918e2f74e79a0ed285204e47e24"
          ]
        }
      },
      "outputs": [
        {
          "data": {
            "application/vnd.jupyter.widget-view+json": {
              "model_id": "01f67918e2f74e79a0ed285204e47e24",
              "version_major": 2,
              "version_minor": 0
            },
            "text/plain": [
              "VBox(children=(Dropdown(description='X-axis:', options=('সংসদ নং', '_বাড়ির অবস্থান _latitude', '_বাড়ির অবস্থান…"
            ]
          },
          "metadata": {},
          "output_type": "display_data"
        }
      ],
      "source": [
        "import pandas as pd\n",
        "import plotly.graph_objects as go\n",
        "from scipy import stats\n",
        "import ipywidgets as widgets\n",
        "from IPython.display import display\n",
        "\n",
        "# Get numeric columns\n",
        "numeric_cols = df.select_dtypes(include=['int64', 'float64']).columns\n",
        "\n",
        "# Create two dropdown widgets\n",
        "dropdown1 = widgets.Dropdown(\n",
        "    options=numeric_cols,\n",
        "    description='X-axis:',\n",
        "    style={'description_width': 'initial'}\n",
        ")\n",
        "\n",
        "dropdown2 = widgets.Dropdown(\n",
        "    options=numeric_cols,\n",
        "    description='Y-axis:',\n",
        "    style={'description_width': 'initial'}\n",
        ")\n",
        "\n",
        "# Create an Output widget to display the plot\n",
        "output = widgets.Output()\n",
        "\n",
        "# Initialize the figure\n",
        "fig = go.FigureWidget()\n",
        "fig.update_layout(\n",
        "    width=800,\n",
        "    height=600,\n",
        "    showlegend=True\n",
        ")\n",
        "\n",
        "def update_plot(change):\n",
        "    x_col = dropdown1.value\n",
        "    y_col = dropdown2.value\n",
        "\n",
        "    with output:\n",
        "        output.clear_output(wait=True)\n",
        "\n",
        "        # Remove NaN values\n",
        "        mask = ~(df[x_col].isna() | df[y_col].isna())\n",
        "        df_clean = df[mask]\n",
        "\n",
        "        # Calculate regression line\n",
        "        slope, intercept, r_value, p_value, std_err = stats.linregress(df_clean[x_col], df_clean[y_col])\n",
        "\n",
        "        # Create line of best fit points\n",
        "        x_range = df_clean[x_col]\n",
        "        y_range = slope * x_range + intercept\n",
        "\n",
        "        # Update the figure data\n",
        "        fig.data = []  # Clear existing traces\n",
        "\n",
        "        # Add scatter points\n",
        "        fig.add_trace(\n",
        "            go.Scatter(\n",
        "                x=df_clean[x_col],\n",
        "                y=df_clean[y_col],\n",
        "                mode='markers',\n",
        "                name='Data Points',\n",
        "                marker=dict(\n",
        "                    size=8,\n",
        "                    opacity=0.6,\n",
        "                    color='blue'\n",
        "                ),\n",
        "                hovertemplate=\n",
        "                f\"UUID: %{{customdata}}<br>\" +\n",
        "                f\"{x_col}: %{{x}}<br>\" +\n",
        "                f\"{y_col}: %{{y}}<br>\" +\n",
        "                \"<extra></extra>\",  # This removes the secondary box\n",
        "                customdata=df_clean['_uuid']\n",
        "            )\n",
        "        )\n",
        "\n",
        "        # Add regression line\n",
        "        fig.add_trace(\n",
        "            go.Scatter(\n",
        "                x=x_range,\n",
        "                y=y_range,\n",
        "                mode='lines',\n",
        "                name=f'Regression Line (R² = {r_value**2:.3f})',\n",
        "                line=dict(color='red'),\n",
        "                hovertemplate=f\"{x_col}: %{{x}}<br>{y_col}: %{{y}}<extra></extra>\"\n",
        "            )\n",
        "        )\n",
        "\n",
        "        # Update layout\n",
        "        fig.update_layout(\n",
        "            title=f'Scatter Plot: {x_col} vs {y_col}',\n",
        "            xaxis_title=x_col,\n",
        "            yaxis_title=y_col,\n",
        "            hovermode='closest'\n",
        "        )\n",
        "\n",
        "        # Print regression statistics\n",
        "        print(f\"Regression Statistics:\")\n",
        "        print(f\"Number of points: {len(df_clean)}\")\n",
        "        print(f\"Slope: {slope:.3f}\")\n",
        "        print(f\"Intercept: {intercept:.3f}\")\n",
        "        print(f\"R-squared: {r_value**2:.3f}\")\n",
        "        print(f\"P-value: {p_value:.3e}\")\n",
        "\n",
        "        display(fig)\n",
        "\n",
        "# Connect the update function to both dropdowns\n",
        "dropdown1.observe(update_plot, names='value')\n",
        "dropdown2.observe(update_plot, names='value')\n",
        "\n",
        "# Create the initial plot\n",
        "update_plot(None)\n",
        "\n",
        "# Display the widgets and output\n",
        "display(widgets.VBox([dropdown1, dropdown2, output]))"
      ]
    },
    {
      "cell_type": "code",
      "execution_count": null,
      "metadata": {
        "id": "PzJ_d63OpZ81",
        "outputId": "ab0ee1ad-f11b-4388-e314-85cbfb93c13a",
        "colab": {
          "referenced_widgets": [
            "e67ab37dac6845d89b14a1b86e997301"
          ]
        }
      },
      "outputs": [
        {
          "data": {
            "application/vnd.jupyter.widget-view+json": {
              "model_id": "e67ab37dac6845d89b14a1b86e997301",
              "version_major": 2,
              "version_minor": 0
            },
            "text/plain": [
              "VBox(children=(Dropdown(description='Group by:', options=('start', 'end', 'ব্লক এর নাম', 'গ্রাম পঞ্চায়েত', 'গ্…"
            ]
          },
          "metadata": {},
          "output_type": "display_data"
        }
      ],
      "source": [
        "import pandas as pd\n",
        "import plotly.graph_objects as go\n",
        "import ipywidgets as widgets\n",
        "from IPython.display import display\n",
        "\n",
        "# Get categorical and numeric columns\n",
        "categorical_cols = df.select_dtypes(exclude=['int64', 'float64']).columns\n",
        "numeric_cols = df.select_dtypes(include=['int64', 'float64']).columns\n",
        "\n",
        "# Create dropdown widgets\n",
        "cat_dropdown = widgets.Dropdown(\n",
        "    options=categorical_cols,\n",
        "    description='Group by:',\n",
        "    style={'description_width': 'initial'}\n",
        ")\n",
        "\n",
        "num_dropdown = widgets.Dropdown(\n",
        "    options=numeric_cols,\n",
        "    description='Average of:',\n",
        "    style={'description_width': 'initial'}\n",
        ")\n",
        "\n",
        "# Create an Output widget to display the plot\n",
        "output = widgets.Output()\n",
        "\n",
        "# Initialize the figure\n",
        "fig = go.FigureWidget()\n",
        "fig.update_layout(\n",
        "    width=1000,\n",
        "    height=600,\n",
        "    showlegend=False\n",
        ")\n",
        "\n",
        "def update_plot(change):\n",
        "    cat_col = cat_dropdown.value\n",
        "    num_col = num_dropdown.value\n",
        "\n",
        "    with output:\n",
        "        output.clear_output(wait=True)\n",
        "\n",
        "        # Calculate averages\n",
        "        df_agg = df.groupby(cat_col)[num_col].agg(['sum','mean', 'count']).reset_index()\n",
        "        df_agg = df_agg[df_agg['count'] >= 10]\n",
        "        df_agg = df_agg.sort_values('mean', ascending=True)  # Sort by mean value\n",
        "\n",
        "        # Update the figure data\n",
        "        fig.data = []  # Clear existing traces\n",
        "\n",
        "        # Add bar chart\n",
        "        fig.add_trace(\n",
        "            go.Bar(\n",
        "                x=df_agg['mean'],\n",
        "                y=df_agg[cat_col],\n",
        "                orientation='h',  # Horizontal bars\n",
        "                text=df_agg.apply(lambda x: f\"Mean: {x['mean']:.2f}<br>Count: {x['count']}\", axis=1),\n",
        "                textposition='auto',\n",
        "                hovertemplate=\n",
        "                f\"{cat_col}: %{{y}}<br>\" +\n",
        "                f\"Average {num_col}: %{{x:.2f}}<br>\" +\n",
        "                \"Count: %{customdata}<br>\" +\n",
        "                \"<extra></extra>\",\n",
        "                customdata=df_agg['count']\n",
        "            )\n",
        "        )\n",
        "\n",
        "        # Update layout\n",
        "        fig.update_layout(\n",
        "            title=f'Average {num_col} by {cat_col}',\n",
        "            xaxis_title=f'Average {num_col}',\n",
        "            yaxis_title=cat_col,\n",
        "            yaxis={'categoryorder': 'total ascending'},  # Sort bars\n",
        "            hoverlabel=dict(\n",
        "                bgcolor=\"white\",\n",
        "                font_size=12,\n",
        "                font_family=\"Arial\"\n",
        "            )\n",
        "        )\n",
        "\n",
        "        # Print statistics\n",
        "        print(f\"Summary Statistics:\")\n",
        "        print(f\"Number of groups: {len(df_agg)}\")\n",
        "        print(f\"Total observations: {df_agg['count'].sum()}\")\n",
        "        print(f\"Overall average: {df[num_col].mean():.2f}\")\n",
        "        print(f\"Min group average: {df_agg['mean'].min():.2f}\")\n",
        "        print(f\"Max group average: {df_agg['mean'].max():.2f}\")\n",
        "\n",
        "        display(fig)\n",
        "\n",
        "# Connect the update function to both dropdowns\n",
        "cat_dropdown.observe(update_plot, names='value')\n",
        "num_dropdown.observe(update_plot, names='value')\n",
        "\n",
        "# Create the initial plot\n",
        "update_plot(None)\n",
        "\n",
        "# Display the widgets and output\n",
        "display(widgets.VBox([cat_dropdown, num_dropdown, output]))"
      ]
    }
  ],
  "metadata": {
    "kernelspec": {
      "display_name": "oak-wash",
      "language": "python",
      "name": "python3"
    },
    "language_info": {
      "codemirror_mode": {
        "name": "ipython",
        "version": 3
      },
      "file_extension": ".py",
      "mimetype": "text/x-python",
      "name": "python",
      "nbconvert_exporter": "python",
      "pygments_lexer": "ipython3",
      "version": "3.13.1"
    },
    "colab": {
      "provenance": [],
      "include_colab_link": true
    }
  },
  "nbformat": 4,
  "nbformat_minor": 0
}